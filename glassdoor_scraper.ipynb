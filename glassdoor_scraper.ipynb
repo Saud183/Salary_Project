{
 "cells": [
  {
   "cell_type": "code",
   "execution_count": 3,
   "id": "7504e572",
   "metadata": {},
   "outputs": [],
   "source": [
    "from selenium.common.exceptions import NoSuchElementException, ElementClickInterceptedException\n",
    "from selenium import webdriver\n",
    "import time\n",
    "import pandas as pd"
   ]
  },
  {
   "cell_type": "code",
   "execution_count": 14,
   "id": "033da9b1",
   "metadata": {},
   "outputs": [],
   "source": [
    "from selenium import webdriver\n",
    "from selenium.webdriver.common.by import By\n",
    "from selenium.webdriver.common.keys import Keys\n",
    "from selenium.webdriver.chrome.service import Service\n",
    "from selenium.webdriver.common.action_chains import ActionChains\n",
    "from selenium.webdriver.common.alert import Alert\n",
    "from selenium.webdriver.support.ui import WebDriverWait\n",
    "from selenium.webdriver.support import expected_conditions as EC\n",
    "from selenium.common.exceptions import NoSuchElementException, ElementClickInterceptedException\n",
    "import pandas as pd\n",
    "import time\n",
    "\n",
    "def get_jobs(keyword, num_jobs, verbose=False):\n",
    "    '''Gathers jobs as a dataframe, scraped from Glassdoor'''\n",
    "    \n",
    "    options = webdriver.ChromeOptions()\n",
    "    options.add_argument(\"--start-maximized\")\n",
    "    options.add_argument(\"--disable-blink-features=AutomationControlled\")\n",
    "    options.add_argument(\"user-agent=Mozilla/5.0 (Windows NT 10.0; Win64; x64) AppleWebKit/537.36 (KHTML, like Gecko) Chrome/120.0.0.0 Safari/537.36\")\n",
    "\n",
    "    \n",
    "    # Uncomment to run headless\n",
    "    # options.add_argument(\"--headless\")\n",
    "    \n",
    "    service = Service(\"C:/Users/saudq/Desktop/MachineLearning/Salary project/chromedriver.exe\")  # Change this path\n",
    "    driver = webdriver.Chrome(service=service, options=options)\n",
    "    \n",
    "    url = f'https://www.glassdoor.com/Job/jobs.htm?sc.keyword=\"{keyword}\"'\n",
    "    driver.get(url)\n",
    "    jobs = []\n",
    "    \n",
    "    while len(jobs) < num_jobs:\n",
    "        time.sleep(4)  # Adjust according to internet speed\n",
    "        \n",
    "        try:\n",
    "            close_button = driver.find_element(By.CLASS_NAME, \"ModalStyle__xBtn___29PT9\")\n",
    "            close_button.click()\n",
    "        except NoSuchElementException:\n",
    "            pass\n",
    "        \n",
    "        job_buttons = driver.find_elements(By.CLASS_NAME, \"jobListing\")\n",
    "        for job_button in job_buttons:\n",
    "            if len(jobs) >= num_jobs:\n",
    "                break\n",
    "            \n",
    "            job_button.click()\n",
    "            time.sleep(2)\n",
    "            \n",
    "            try:\n",
    "                company_name = driver.find_element(By.CLASS_NAME, \"employerName\").text\n",
    "                location = driver.find_element(By.CLASS_NAME, \"location\").text\n",
    "                job_title = driver.find_element(By.CLASS_NAME, \"jobTitle\").text\n",
    "                job_description = driver.find_element(By.CLASS_NAME, \"jobDescriptionContent\").text\n",
    "            except NoSuchElementException:\n",
    "                continue\n",
    "            \n",
    "            try:\n",
    "                salary_estimate = driver.find_element(By.CLASS_NAME, \"salary\").text\n",
    "            except NoSuchElementException:\n",
    "                salary_estimate = \"Not Available\"\n",
    "            \n",
    "            try:\n",
    "                rating = driver.find_element(By.CLASS_NAME, \"rating\").text\n",
    "            except NoSuchElementException:\n",
    "                rating = \"Not Available\"\n",
    "            \n",
    "            if verbose:\n",
    "                print(f\"Job Title: {job_title}\\nSalary Estimate: {salary_estimate}\\nRating: {rating}\\nCompany Name: {company_name}\\nLocation: {location}\\n\")\n",
    "            \n",
    "            jobs.append({\n",
    "                \"Job Title\": job_title,\n",
    "                \"Salary Estimate\": salary_estimate,\n",
    "                \"Job Description\": job_description,\n",
    "                \"Rating\": rating,\n",
    "                \"Company Name\": company_name,\n",
    "                \"Location\": location\n",
    "            })\n",
    "            \n",
    "        try:\n",
    "            next_button = driver.find_element(By.XPATH, '//li[@class=\"next\"]//a')\n",
    "            next_button.click()\n",
    "        except NoSuchElementException:\n",
    "            print(f\"Scraping stopped before reaching target. Needed {num_jobs}, got {len(jobs)}.\")\n",
    "            break\n",
    "    \n",
    "    driver.quit()\n",
    "    return pd.DataFrame(jobs)"
   ]
  },
  {
   "cell_type": "code",
   "execution_count": 15,
   "id": "d996a05e",
   "metadata": {},
   "outputs": [
    {
     "name": "stdout",
     "output_type": "stream",
     "text": [
      "Scraping stopped before reaching target. Needed 5, got 0.\n"
     ]
    },
    {
     "data": {
      "text/html": [
       "<div>\n",
       "<style scoped>\n",
       "    .dataframe tbody tr th:only-of-type {\n",
       "        vertical-align: middle;\n",
       "    }\n",
       "\n",
       "    .dataframe tbody tr th {\n",
       "        vertical-align: top;\n",
       "    }\n",
       "\n",
       "    .dataframe thead th {\n",
       "        text-align: right;\n",
       "    }\n",
       "</style>\n",
       "<table border=\"1\" class=\"dataframe\">\n",
       "  <thead>\n",
       "    <tr style=\"text-align: right;\">\n",
       "      <th></th>\n",
       "    </tr>\n",
       "  </thead>\n",
       "  <tbody>\n",
       "  </tbody>\n",
       "</table>\n",
       "</div>"
      ],
      "text/plain": [
       "Empty DataFrame\n",
       "Columns: []\n",
       "Index: []"
      ]
     },
     "execution_count": 15,
     "metadata": {},
     "output_type": "execute_result"
    }
   ],
   "source": [
    "#This line will open a new chrome window and start the scraping.\n",
    "df = get_jobs(\"data scientist\", 5, False)\n",
    "df"
   ]
  },
  {
   "cell_type": "code",
   "execution_count": null,
   "id": "7083f7e0",
   "metadata": {},
   "outputs": [],
   "source": []
  }
 ],
 "metadata": {
  "kernelspec": {
   "display_name": "Python 3 (ipykernel)",
   "language": "python",
   "name": "python3"
  },
  "language_info": {
   "codemirror_mode": {
    "name": "ipython",
    "version": 3
   },
   "file_extension": ".py",
   "mimetype": "text/x-python",
   "name": "python",
   "nbconvert_exporter": "python",
   "pygments_lexer": "ipython3",
   "version": "3.11.5"
  }
 },
 "nbformat": 4,
 "nbformat_minor": 5
}
